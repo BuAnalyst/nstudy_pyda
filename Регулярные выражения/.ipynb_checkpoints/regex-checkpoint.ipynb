{
 "cells": [
  {
   "cell_type": "markdown",
   "metadata": {},
   "source": [
    "**Задание 1.** Напишите функцию, которая принимает на вход строку и проверяет является ли она валидным транспортным номером. Если да, то функция должна возвращать отдельно номер и регион."
   ]
  },
  {
   "cell_type": "code",
   "execution_count": 96,
   "metadata": {},
   "outputs": [
    {
     "data": {
      "text/plain": [
       "('Номер - т232тn', 'Регион - 99')"
      ]
     },
     "execution_count": 96,
     "metadata": {},
     "output_type": "execute_result"
    }
   ],
   "source": [
    "import re\n",
    "\n",
    "def num_reg_check(input_num):\n",
    "    if re.search(r'^\\w{1}\\d{3}\\w{2}\\d{2,3}', input_num):\n",
    "        return 'Номер - '+(re.sub(r'(\\w)(\\d{3})(\\w{2})(\\d{2,3})', r'\\1\\2\\3', input_num)),\\\n",
    "                'Регион - '+(re.sub(r'(\\w)(\\d{3})(\\w{2})(\\d{2,3})', r'\\4', input_num))\n",
    "    else:\n",
    "        return 'Ничего нет'\n",
    "\n",
    "num_reg_check('т232тn99')\n"
   ]
  },
  {
   "cell_type": "markdown",
   "metadata": {},
   "source": [
    "**Задание 2**. Напишите функцию, которая проверяет e-mail адрес на валидность по стандарту RFC822: http://www.w3.org/Protocols/rfc822/. Для этого постарайтесь написать (в крайнем случае найти) самый полный шаблон для проверки e-mail адресов через регулярное выражение. Разберитесь и напишите примеры, какие ваш шаблон может не охватить."
   ]
  },
  {
   "cell_type": "code",
   "execution_count": 511,
   "metadata": {},
   "outputs": [
    {
     "data": {
      "text/plain": [
       "['yandex@yandex.ru']"
      ]
     },
     "execution_count": 511,
     "metadata": {},
     "output_type": "execute_result"
    }
   ],
   "source": [
    "email = 'yandex@yandex.ru'\n",
    "def valid_email(email):\n",
    "    return re.findall(r'^[a-zA-Z][a-zA-Z\\_\\-\\.0-9]+@+[a-zA-Z].+\\..+$', email)\n",
    "\n",
    "valid_email('yandex@yandex.ru')\n"
   ]
  },
  {
   "cell_type": "markdown",
   "metadata": {},
   "source": [
    "**Задание 3.** Напишите функцию, которая будет удалять все последовательные повторы слов из заданной строки при помощи регулярных выражений."
   ]
  },
  {
   "cell_type": "code",
   "execution_count": 136,
   "metadata": {},
   "outputs": [
    {
     "data": {
      "text/plain": [
       "'Володя рисовал рис на траве вчера'"
      ]
     },
     "execution_count": 136,
     "metadata": {},
     "output_type": "execute_result"
    }
   ],
   "source": [
    "stream = ' Володя володя рисовал, Рисовал рис на траве вчера вчера'\n",
    "\n",
    "def without_repeats(stream):\n",
    "    return re.sub(r'\\b([^\\W\\d_]+)(\\s+\\1)+\\b', r'\\1', re.sub(r'\\W+', ' ', stream).strip(), flags=re.I)\n",
    "\n",
    "without_repeats(stream)"
   ]
  },
  {
   "cell_type": "markdown",
   "metadata": {},
   "source": [
    "# **Задание 4**. Напишите функцию, которая будет проверять номер сотового телефона на валидность, если он валиден, то переводить его в формат:  \n",
    "+7(xxx)-xxx-xx-xx  \n",
    "Постарайтесь предусмотреть как можно больше адекватных форматов изначального ввода номера.\n",
    "Примеры валидных форматов:\n",
    "- +7 955 555-55-55;\n",
    "- 9555555555;\n",
    "- 8(955)555-55-55;\n",
    "- +7 955 555 55 55;\n",
    "- 7(955) 555-55-55;\n",
    "- +7 955+555+55+55."
   ]
  },
  {
   "cell_type": "code",
   "execution_count": 480,
   "metadata": {},
   "outputs": [],
   "source": [
    "def valid_num(num):\n",
    "    num_ = re.sub(r'\\W+', '',num).split()\n",
    "\n",
    "    if 10 <= int(len(num_[0])) <= 11:\n",
    "        try:\n",
    "            if int(len((re.findall(r'^[7-9]\\d{9,10}', num_[0]))[0])) == 10:\n",
    "                print(re.sub(r'(\\d{3})(\\d{3})(\\d{2})(\\d{2})', r'+7(\\1)-\\2-\\3-\\4', re.findall(r'^[7-9]\\d{9,10}', num_[0])[0]))\n",
    "            else:\n",
    "                print(re.sub(r'(\\d{3})(\\d{3})(\\d{2})(\\d{2})', r'+7(\\1)-\\2-\\3-\\4', re.findall(r'(?<=7|8)\\d{9,10}', num_[0])[0]))\n",
    "        except:\n",
    "             print ('Invalid number entered')\n",
    "    else:\n",
    "        print ('Invalid number entered')"
   ]
  },
  {
   "cell_type": "code",
   "execution_count": 481,
   "metadata": {},
   "outputs": [
    {
     "name": "stdout",
     "output_type": "stream",
     "text": [
      "+7(955)-555-55-55\n"
     ]
    }
   ],
   "source": [
    "valid_num('9555555555')"
   ]
  }
 ],
 "metadata": {
  "kernelspec": {
   "display_name": "Python 3",
   "language": "python",
   "name": "python3"
  },
  "language_info": {
   "codemirror_mode": {
    "name": "ipython",
    "version": 3
   },
   "file_extension": ".py",
   "mimetype": "text/x-python",
   "name": "python",
   "nbconvert_exporter": "python",
   "pygments_lexer": "ipython3",
   "version": "3.7.4"
  }
 },
 "nbformat": 4,
 "nbformat_minor": 2
}
