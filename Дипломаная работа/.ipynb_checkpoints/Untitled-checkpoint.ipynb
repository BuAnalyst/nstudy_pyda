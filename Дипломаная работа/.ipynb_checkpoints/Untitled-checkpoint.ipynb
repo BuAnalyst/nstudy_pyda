{
 "cells": [
  {
   "cell_type": "markdown",
   "metadata": {},
   "source": [
    "Задание:  \n",
    "1.+  Загрузить файл hr.csv (можно найти во сложении к заданию)\n",
    "2.+  Рассчитать основные статистики для переменных (среднее, медиана, мода, мин/макс, сред. отклонение)\n",
    "3.+  Рассчитать и визуализировать корреляционную матрицу для переменных\n",
    "4.+  Визуализировать несколько взаимосвязей между переменными\n",
    "5.+  С использованием t-test статистики проверить взаимосвязи между несколькими переменными\n",
    "6.+  Рассчитать сколько работников работает в каждом департаменте\n",
    "7.+  Показать распределение сотрудников по зарплатам\n",
    "8.+  Показать распределение сотрудников по зарплатам совместно с департаментами\n",
    "9.+  Сколько сотрудников покинули компанию\n",
    "10.+ Проверить несколько гипотез для данных, чтобы понять почему сотрудники покидают компанию\n",
    "11. Загрузить результат (в формате .ipynb ноутбука) в репозиторий. Разместить ссылку на репозиторий в лк на сайте"
   ]
  },
  {
   "cell_type": "code",
   "execution_count": 2,
   "metadata": {},
   "outputs": [
    {
     "data": {
      "text/html": [
       "<div>\n",
       "<style scoped>\n",
       "    .dataframe tbody tr th:only-of-type {\n",
       "        vertical-align: middle;\n",
       "    }\n",
       "\n",
       "    .dataframe tbody tr th {\n",
       "        vertical-align: top;\n",
       "    }\n",
       "\n",
       "    .dataframe thead th {\n",
       "        text-align: right;\n",
       "    }\n",
       "</style>\n",
       "<table border=\"1\" class=\"dataframe\">\n",
       "  <thead>\n",
       "    <tr style=\"text-align: right;\">\n",
       "      <th></th>\n",
       "      <th>satisfaction_level</th>\n",
       "      <th>last_evaluation</th>\n",
       "      <th>number_project</th>\n",
       "      <th>average_montly_hours</th>\n",
       "      <th>time_spend_company</th>\n",
       "      <th>Work_accident</th>\n",
       "      <th>left</th>\n",
       "      <th>promotion_last_5years</th>\n",
       "      <th>sales</th>\n",
       "      <th>salary</th>\n",
       "    </tr>\n",
       "  </thead>\n",
       "  <tbody>\n",
       "    <tr>\n",
       "      <td>0</td>\n",
       "      <td>0.38</td>\n",
       "      <td>0.53</td>\n",
       "      <td>2</td>\n",
       "      <td>157</td>\n",
       "      <td>3</td>\n",
       "      <td>0</td>\n",
       "      <td>1</td>\n",
       "      <td>0</td>\n",
       "      <td>sales</td>\n",
       "      <td>low</td>\n",
       "    </tr>\n",
       "    <tr>\n",
       "      <td>1</td>\n",
       "      <td>0.80</td>\n",
       "      <td>0.86</td>\n",
       "      <td>5</td>\n",
       "      <td>262</td>\n",
       "      <td>6</td>\n",
       "      <td>0</td>\n",
       "      <td>1</td>\n",
       "      <td>0</td>\n",
       "      <td>sales</td>\n",
       "      <td>medium</td>\n",
       "    </tr>\n",
       "    <tr>\n",
       "      <td>2</td>\n",
       "      <td>0.11</td>\n",
       "      <td>0.88</td>\n",
       "      <td>7</td>\n",
       "      <td>272</td>\n",
       "      <td>4</td>\n",
       "      <td>0</td>\n",
       "      <td>1</td>\n",
       "      <td>0</td>\n",
       "      <td>sales</td>\n",
       "      <td>medium</td>\n",
       "    </tr>\n",
       "    <tr>\n",
       "      <td>3</td>\n",
       "      <td>0.72</td>\n",
       "      <td>0.87</td>\n",
       "      <td>5</td>\n",
       "      <td>223</td>\n",
       "      <td>5</td>\n",
       "      <td>0</td>\n",
       "      <td>1</td>\n",
       "      <td>0</td>\n",
       "      <td>sales</td>\n",
       "      <td>low</td>\n",
       "    </tr>\n",
       "    <tr>\n",
       "      <td>4</td>\n",
       "      <td>0.37</td>\n",
       "      <td>0.52</td>\n",
       "      <td>2</td>\n",
       "      <td>159</td>\n",
       "      <td>3</td>\n",
       "      <td>0</td>\n",
       "      <td>1</td>\n",
       "      <td>0</td>\n",
       "      <td>sales</td>\n",
       "      <td>low</td>\n",
       "    </tr>\n",
       "    <tr>\n",
       "      <td>...</td>\n",
       "      <td>...</td>\n",
       "      <td>...</td>\n",
       "      <td>...</td>\n",
       "      <td>...</td>\n",
       "      <td>...</td>\n",
       "      <td>...</td>\n",
       "      <td>...</td>\n",
       "      <td>...</td>\n",
       "      <td>...</td>\n",
       "      <td>...</td>\n",
       "    </tr>\n",
       "    <tr>\n",
       "      <td>14994</td>\n",
       "      <td>0.40</td>\n",
       "      <td>0.57</td>\n",
       "      <td>2</td>\n",
       "      <td>151</td>\n",
       "      <td>3</td>\n",
       "      <td>0</td>\n",
       "      <td>1</td>\n",
       "      <td>0</td>\n",
       "      <td>support</td>\n",
       "      <td>low</td>\n",
       "    </tr>\n",
       "    <tr>\n",
       "      <td>14995</td>\n",
       "      <td>0.37</td>\n",
       "      <td>0.48</td>\n",
       "      <td>2</td>\n",
       "      <td>160</td>\n",
       "      <td>3</td>\n",
       "      <td>0</td>\n",
       "      <td>1</td>\n",
       "      <td>0</td>\n",
       "      <td>support</td>\n",
       "      <td>low</td>\n",
       "    </tr>\n",
       "    <tr>\n",
       "      <td>14996</td>\n",
       "      <td>0.37</td>\n",
       "      <td>0.53</td>\n",
       "      <td>2</td>\n",
       "      <td>143</td>\n",
       "      <td>3</td>\n",
       "      <td>0</td>\n",
       "      <td>1</td>\n",
       "      <td>0</td>\n",
       "      <td>support</td>\n",
       "      <td>low</td>\n",
       "    </tr>\n",
       "    <tr>\n",
       "      <td>14997</td>\n",
       "      <td>0.11</td>\n",
       "      <td>0.96</td>\n",
       "      <td>6</td>\n",
       "      <td>280</td>\n",
       "      <td>4</td>\n",
       "      <td>0</td>\n",
       "      <td>1</td>\n",
       "      <td>0</td>\n",
       "      <td>support</td>\n",
       "      <td>low</td>\n",
       "    </tr>\n",
       "    <tr>\n",
       "      <td>14998</td>\n",
       "      <td>0.37</td>\n",
       "      <td>0.52</td>\n",
       "      <td>2</td>\n",
       "      <td>158</td>\n",
       "      <td>3</td>\n",
       "      <td>0</td>\n",
       "      <td>1</td>\n",
       "      <td>0</td>\n",
       "      <td>support</td>\n",
       "      <td>low</td>\n",
       "    </tr>\n",
       "  </tbody>\n",
       "</table>\n",
       "<p>14999 rows × 10 columns</p>\n",
       "</div>"
      ],
      "text/plain": [
       "       satisfaction_level  last_evaluation  number_project  \\\n",
       "0                    0.38             0.53               2   \n",
       "1                    0.80             0.86               5   \n",
       "2                    0.11             0.88               7   \n",
       "3                    0.72             0.87               5   \n",
       "4                    0.37             0.52               2   \n",
       "...                   ...              ...             ...   \n",
       "14994                0.40             0.57               2   \n",
       "14995                0.37             0.48               2   \n",
       "14996                0.37             0.53               2   \n",
       "14997                0.11             0.96               6   \n",
       "14998                0.37             0.52               2   \n",
       "\n",
       "       average_montly_hours  time_spend_company  Work_accident  left  \\\n",
       "0                       157                   3              0     1   \n",
       "1                       262                   6              0     1   \n",
       "2                       272                   4              0     1   \n",
       "3                       223                   5              0     1   \n",
       "4                       159                   3              0     1   \n",
       "...                     ...                 ...            ...   ...   \n",
       "14994                   151                   3              0     1   \n",
       "14995                   160                   3              0     1   \n",
       "14996                   143                   3              0     1   \n",
       "14997                   280                   4              0     1   \n",
       "14998                   158                   3              0     1   \n",
       "\n",
       "       promotion_last_5years    sales  salary  \n",
       "0                          0    sales     low  \n",
       "1                          0    sales  medium  \n",
       "2                          0    sales  medium  \n",
       "3                          0    sales     low  \n",
       "4                          0    sales     low  \n",
       "...                      ...      ...     ...  \n",
       "14994                      0  support     low  \n",
       "14995                      0  support     low  \n",
       "14996                      0  support     low  \n",
       "14997                      0  support     low  \n",
       "14998                      0  support     low  \n",
       "\n",
       "[14999 rows x 10 columns]"
      ]
     },
     "execution_count": 2,
     "metadata": {},
     "output_type": "execute_result"
    }
   ],
   "source": [
    "import pandas as pd\n",
    "import numpy as np\n",
    "from matplotlib import pyplot as plt\n",
    "from scipy.stats import ttest_ind\n",
    "\n",
    "\n",
    "data = pd.read_csv('HR.csv')\n",
    "\n",
    "# Основные статиститки\n",
    "\n",
    "data.mean()\n",
    "data.median()\n",
    "data.mode().head(1)\n",
    "data.min()\n",
    "data.max()\n",
    "data.std()\n",
    "\n",
    "# Расчитать и визуализировать корреляционную матрицу для переменных\n",
    "plt.matshow(data.corr())\n",
    "\n",
    "# Кол-во работников в Департаментах\n",
    "dep_count = data[['satisfaction_level', 'sales']].groupby('sales').count().reset_index()\n",
    "dep_count.columns = ['sales','p_count']\n",
    "dep_count. head()\n",
    "\n",
    "\n",
    "# Распределение сотрудников по Зарплатам\n",
    "sal_count = data[['satisfaction_level', 'salary']].groupby('salary').count().reset_index()\n",
    "sal_count.columns = ['salary','p_count']\n",
    "sal_count.head()\n",
    "\n",
    "# Распредеелние кол-ва по Зарплатам и Департаментам\n",
    "ds_count = data[['satisfaction_level', 'sales', 'salary']].groupby(['sales','salary']).count().reset_index()\n",
    "ds_count.columns = ['sales','salary','p_count']\n",
    "ds_count.head()\n",
    "\n",
    "# Кол-во сотрудников покинувших компанию\n",
    "\n",
    "count_left = data['left'].sum()\n",
    "count_left\n",
    "\n",
    "\n",
    "data"
   ]
  },
  {
   "cell_type": "code",
   "execution_count": 119,
   "metadata": {},
   "outputs": [
    {
     "data": {
      "text/plain": [
       "<matplotlib.axes._subplots.AxesSubplot at 0x206e42b9e08>"
      ]
     },
     "execution_count": 119,
     "metadata": {},
     "output_type": "execute_result"
    },
    {
     "data": {
      "image/png": "[encoded data removed]",
      "text/plain": [
       "<Figure size 432x288 with 1 Axes>"
      ]
     },
     "metadata": {
      "needs_background": "light"
     },
     "output_type": "display_data"
    },
    {
     "data": {
      "image/png": "[encoded data removed]",
      "text/plain": [
       "<Figure size 432x288 with 1 Axes>"
      ]
     },
     "metadata": {
      "needs_background": "light"
     },
     "output_type": "display_data"
    }
   ],
   "source": [
    "# Несколько визуализаций взаимосвязей.\n",
    "\n",
    "d_d = data[['sales','salary','satisfaction_level']].groupby(['sales','salary']).mean().reset_index()\n",
    "\n",
    "p_d = d_d.pivot_table(  index = 'sales',\n",
    "                        columns = 'salary', \n",
    "                        values='satisfaction_level').fillna(0).applymap(float)\n",
    "p_d.plot(y=['high','low'],rot=90)\n",
    "\n",
    "# Из графика видно, что работники отделов RanD и PM с низкой ЗП имеют более высокий уровень удовлетворенности,\n",
    "# чем работники этих же отделов но с высокой ЗП. ВОзможно это влияет на увольнения.\n",
    "\n",
    "f_d = data[['sales','salary','left']].loc[(data.left == 1)].groupby(['sales','salary']).count().reset_index()\n",
    "f_dp = f_d.pivot_table(  index = 'sales',\n",
    "                         columns = 'salary', \n",
    "                         values ='left').fillna(0).applymap(float)\n",
    "f_dp.plot(kind='bar', y=['low'], color='orange')\n",
    "\n",
    "# Рассматрев оба графика видим некоторую взаимосвязь между кол-вом уволившихся и их уровнем удовлетворенности.\n",
    "# например отдел RandD с высоким уровнем удовлетворенности но с нихкой ЗП уволнялись реже чем в дургих отделах."
   ]
  },
  {
   "cell_type": "code",
   "execution_count": 37,
   "metadata": {},
   "outputs": [
    {
     "data": {
      "text/plain": [
       "<matplotlib.axes._subplots.AxesSubplot at 0x1bc14bef2c8>"
      ]
     },
     "execution_count": 37,
     "metadata": {},
     "output_type": "execute_result"
    },
    {
     "data": {
      "image/png": "[encoded data removed]",
      "text/plain": [
       "<Figure size 432x288 with 1 Axes>"
      ]
     },
     "metadata": {
      "needs_background": "light"
     },
     "output_type": "display_data"
    }
   ],
   "source": [
    "# Гипотеза №1 . Увольняются чаще работники, которые работают в компании отностилельно недавно. \n",
    "\n",
    "dod = data[['time_spend_company','left','Work_accident']].groupby(['time_spend_company']).sum().reset_index()\n",
    "dod.plot(kind='bar', x='time_spend_company', y=['left','Work_accident'], rot=0)"
   ]
  },
  {
   "cell_type": "code",
   "execution_count": 48,
   "metadata": {},
   "outputs": [
    {
     "data": {
      "text/plain": [
       "<matplotlib.axes._subplots.AxesSubplot at 0x1bc13406548>"
      ]
     },
     "execution_count": 48,
     "metadata": {},
     "output_type": "execute_result"
    },
    {
     "data": {
      "image/png": "[encoded data removed]",
      "text/plain": [
       "<Figure size 432x288 with 1 Axes>"
      ]
     },
     "metadata": {},
     "output_type": "display_data"
    }
   ],
   "source": [
    "# Гипотеза №2 . Причиной уволнения служат несчастные случаи на рабочем месте.\n",
    "\n",
    "dd = data[['left','Work_accident']].loc[data.Work_accident == 1].groupby('left').sum().reset_index().head()\n",
    "dd['percent'] =  (dd['Work_accident'] / np.sum(dd['Work_accident'])) * 100\n",
    "dd['left'] = dd['left'].replace(0, 'Work')\n",
    "dd['left'] = dd['left'].replace(1, 'Left')\n",
    "dd.plot(kind='pie', x='left', y='percent')\n",
    "\n",
    "# Гипотезу можно считать не верной. Потому, что из 2169 записей с  \"Несчастными случаеми\" уволилось уволилось только 7,7%"
   ]
  },
  {
   "cell_type": "code",
   "execution_count": 8,
   "metadata": {},
   "outputs": [
    {
     "name": "stdout",
     "output_type": "stream",
     "text": [
      "Ttest_indResult(statistic=-0.5891866159336399, pvalue=0.555756997961023)\n",
      "Ttest_indResult(statistic=-20.207320836329757, pvalue=1.1334132755179008e-88)\n"
     ]
    }
   ],
   "source": [
    "# t-test\n",
    "\n",
    "\n",
    "sales = data[data['sales']=='sales']\n",
    "support = data[data['sales']=='support']\n",
    "\n",
    "print(ttest_ind(sales['satisfaction_level'], support['satisfaction_level']))\n",
    "print(ttest_ind(sales['satisfaction_level'], sales['last_evaluation']))\n"
   ]
  },
  {
   "cell_type": "code",
   "execution_count": null,
   "metadata": {},
   "outputs": [],
   "source": []
  }
 ],
 "metadata": {
  "kernelspec": {
   "display_name": "Python 3",
   "language": "python",
   "name": "python3"
  },
  "language_info": {
   "codemirror_mode": {
    "name": "ipython",
    "version": 3
   },
   "file_extension": ".py",
   "mimetype": "text/x-python",
   "name": "python",
   "nbconvert_exporter": "python",
   "pygments_lexer": "ipython3",
   "version": "3.7.4"
  }
 },
 "nbformat": 4,
 "nbformat_minor": 2
}
