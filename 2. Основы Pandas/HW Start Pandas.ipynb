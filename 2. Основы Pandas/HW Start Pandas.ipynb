{
 "cells": [
  {
   "cell_type": "code",
   "execution_count": 8,
   "metadata": {},
   "outputs": [],
   "source": [
    "import pandas as pd"
   ]
  },
  {
   "cell_type": "code",
   "execution_count": 74,
   "metadata": {},
   "outputs": [
    {
     "data": {
      "text/plain": [
       "Shawshank Redemption, The (1994)    153\n",
       "Name: title, dtype: int64"
      ]
     },
     "execution_count": 74,
     "metadata": {},
     "output_type": "execute_result"
    }
   ],
   "source": [
    "#  Задание 1\n",
    "m = pd.read_csv('movies.csv')\n",
    "r = pd.read_csv('ratings.csv')\n",
    "\n",
    "full_rm = r.merge(m, on='movieId', how='left')\n",
    "full_rm = full_rm[ (full_rm['rating']==5) ]\n",
    "full_rm['title'].value_counts().head(1)"
   ]
  },
  {
   "cell_type": "code",
   "execution_count": 97,
   "metadata": {},
   "outputs": [
    {
     "data": {
      "text/plain": [
       "country\n",
       "Estonia      266014.0\n",
       "Latvia       208780.0\n",
       "Lithuania    495934.0\n",
       "Name: quantity, dtype: float64"
      ]
     },
     "execution_count": 97,
     "metadata": {},
     "output_type": "execute_result"
    }
   ],
   "source": [
    "# Задание 2\n",
    "data = pd.read_csv('power.csv')\n",
    "balt_cant = data[ ((data['country']=='Latvia') | (data['country']=='Estonia') | (data['country']=='Lithuania')) &  \n",
    "    ((data['category']==4) | (data['category']==12) | (data['category']==21)) & (data['quantity'] > 0)]\n",
    "\n",
    "SUM = balt_cant['quantity'].groupby(balt_cant['country']).sum()\n",
    "SUM.head()"
   ]
  },
  {
   "cell_type": "code",
   "execution_count": 102,
   "metadata": {},
   "outputs": [],
   "source": [
    "#  Задание 3\n",
    "sport_medal_data = pd.read_html('https://ru.wikipedia.org/wiki/%D0%9E%D0%B1%D1%89%D0%B8%D0%B9_%D0%BC%D0%B5%D0%B4%D0%B0%D0%BB%D1%8C%D0%BD%D1%8B%D0%B9_%D0%B7%D0%B0%D1%87%D1%91%D1%82_%D0%9E%D0%BB%D0%B8%D0%BC%D0%BF%D0%B8%D0%B9%D1%81%D0%BA%D0%B8%D1%85_%D0%B8%D0%B3%D1%80')\n"
   ]
  },
  {
   "cell_type": "code",
   "execution_count": null,
   "metadata": {},
   "outputs": [],
   "source": []
  }
 ],
 "metadata": {
  "kernelspec": {
   "display_name": "Python 3",
   "language": "python",
   "name": "python3"
  },
  "language_info": {
   "codemirror_mode": {
    "name": "ipython",
    "version": 3
   },
   "file_extension": ".py",
   "mimetype": "text/x-python",
   "name": "python",
   "nbconvert_exporter": "python",
   "pygments_lexer": "ipython3",
   "version": "3.7.4"
  }
 },
 "nbformat": 4,
 "nbformat_minor": 2
}
