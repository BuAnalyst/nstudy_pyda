{
 "cells": [
  {
   "cell_type": "markdown",
   "metadata": {},
   "source": [
    "**Задание 1**. Даны 2 строки: *long_phrase* и *short_phrase*. \n",
    "Напишите код, который проверяет действительно ли длинная фраза *long_phrase* длиннее короткой *short_phrase*. И выводит *True* или *False* в зависимости от результата сравнения."
   ]
  },
  {
   "cell_type": "code",
   "execution_count": 2,
   "metadata": {},
   "outputs": [],
   "source": [
    "long_phrase = 'Насколько проще было бы писать программы, если бы не заказчики'\n",
    "short_phrase = '640Кб должно хватить для любых задач. Билл Гейтс (по легенде)'"
   ]
  },
  {
   "cell_type": "code",
   "execution_count": 3,
   "metadata": {},
   "outputs": [
    {
     "data": {
      "text/plain": [
       "True"
      ]
     },
     "execution_count": 3,
     "metadata": {},
     "output_type": "execute_result"
    }
   ],
   "source": [
    "len (long_phrase) > len (short_phrase)"
   ]
  },
  {
   "cell_type": "markdown",
   "metadata": {},
   "source": [
    "**Задание 2**. Дано значение объема файла в байтах (*в мегабайте 2^20 байт*). Напишите перевод этого значения в мегабайты в формате: \"*Объем файла равен 213.68Mb*\"."
   ]
  },
  {
   "cell_type": "code",
   "execution_count": 4,
   "metadata": {},
   "outputs": [
    {
     "name": "stdout",
     "output_type": "stream",
     "text": [
      "Введите размер файла в байтах: 70000000\n",
      "Объем файла равен 66.76 Mb\n"
     ]
    }
   ],
   "source": [
    "user_input_file_size = int(input('Введите размер файла в байтах: '))\n",
    "\n",
    "print('Объем файла равен', round(user_input_file_size/(2**20),2),'Mb')"
   ]
  },
  {
   "cell_type": "markdown",
   "metadata": {},
   "source": [
    "**Задание 3**. Разработать приложение для определения знака зодиака по дате рождения. Пример:\n",
    "\n",
    "Введите месяц: март\n",
    "\n",
    "Введите число: 6\n",
    "\n",
    "Вывод:\n",
    "Рыбы"
   ]
  },
  {
   "cell_type": "code",
   "execution_count": 6,
   "metadata": {},
   "outputs": [
    {
     "name": "stdout",
     "output_type": "stream",
     "text": [
      "Введите месяц: март\n",
      "Введите день: 17\n",
      "Ваш знак зодиака:  Рыбы\n"
     ]
    }
   ],
   "source": [
    "user_input_month = input('Введите месяц: ')\n",
    "user_input_day = int(input('Введите день: '))\n",
    "\n",
    "month = {'январь':1, 'февраль':2, 'март':3, 'апрель':4, 'май':5, 'июнь':6, 'июль':7, 'август':8, 'сентябрь':9, 'октябрь':10, 'ноябрь':11, 'декабрь':12}\n",
    "z_code = \"%s%s\" % (month[user_input_month],'%02d' % user_input_day)\n",
    "\n",
    "zodiacs = [(120, 'Козерог'), (218, 'ВОдолей'), (320, 'Рыбы'), (420, 'Овен'), (521, 'Телец'), (621, 'Близнецы'), (722, 'Раки'), (823, 'Львы'), (923, 'Девы'), (1023, 'Весы'), (1122, 'Скорпион'), (1222, 'Стрелец'), (1231, 'Козерог')]\n",
    "\n",
    "for z in zodiacs:\n",
    "    if int(z_code) <= z[0]:\n",
    "            print('Ваш знак зодиака:',z[1])\n",
    "            break"
   ]
  },
  {
   "cell_type": "markdown",
   "metadata": {},
   "source": [
    "**Задание 4**. Нужно разработать приложение для финансового планирования.\n",
    "Приложение учитывает сколько уходит на ипотеку, \"на жизнь\" и сколько нужно отложить на пенсию.\n",
    "Пользователь вводит:\n",
    "- заработанную плату в месяц.\n",
    "- сколько процентов от ЗП уходит на ипотеку.\n",
    "- сколько процентов от ЗП уходит \"на жизнь\".\n",
    "- сколько раз приходит премия в год.\n",
    "\n",
    "Остальная часть заработанной платы откладывается на пенсию.\n",
    "\n",
    "Также пользователю приходит премия в размере зарплаты, от которой половина уходит на отпуск, а вторая половина откладывается.\n",
    "\n",
    "Программа должна учитывать сколько премий было в год.\n",
    "\n",
    "Нужно вывести сколько денег тратит пользователь на ипотеку и сколько он накопит за год.\n",
    "\n",
    "Пример:\n",
    "\n",
    "Введите заработанную плату в месяц: 100000\n",
    "\n",
    "Введите сколько процентов уходит на ипотеку: 30\n",
    "\n",
    "Введите сколько процентов уходит на жизнь: 50\n",
    "\n",
    "Введите количество премий за год: 2\n",
    "\n",
    "Вывод:\n",
    "На ипотеку было потрачено: 360000 рублей\n",
    "Было накоплено: 340000 рублей"
   ]
  },
  {
   "cell_type": "code",
   "execution_count": 42,
   "metadata": {},
   "outputs": [
    {
     "name": "stdout",
     "output_type": "stream",
     "text": [
      "Введите вашу ЗП: 100000\n",
      "Введите сколько процентов от ЗП уходит на ипотеку: 30\n",
      "Введите сколько процентов от ЗП уходит на жизнь: 50\n",
      "Введите сколько раз в год приходит премия: 2\n",
      "Введите период расчета в месяцах: 12\n",
      "На ипотеку было потрачено: 360000.0  рублей.  Было накоплено: 340000.0  рублей \n"
     ]
    }
   ],
   "source": [
    "user_input_salary = int(input('Введите вашу ЗП: '))\n",
    "user_input_per_mortgage = int(input('Введите сколько процентов от ЗП уходит на ипотеку: '))\n",
    "user_input_per_live = int(input('Введите сколько процентов от ЗП уходит на жизнь: '))\n",
    "user_input_prize = int(input('Введите сколько раз в год приходит премия: '))\n",
    "user_input_period = int(input('Введите период расчета в месяцах: '))\n",
    "\n",
    "prize = user_input_salary * user_input_prize \n",
    "travel = prize / 2\n",
    "m_save = prize - travel\n",
    "\n",
    "benefit = (user_input_salary - (user_input_salary * (user_input_per_mortgage + user_input_per_live)/100))  * user_input_period\n",
    "mortgage = (user_input_salary * user_input_per_mortgage / 100) * user_input_period\n",
    "\n",
    "\n",
    "print ('На ипотеку было потрачено:', mortgage, ' рублей. ','Было накоплено:', benefit+m_save,' рублей ' )\n"
   ]
  },
  {
   "cell_type": "code",
   "execution_count": null,
   "metadata": {},
   "outputs": [],
   "source": []
  }
 ],
 "metadata": {
  "kernelspec": {
   "display_name": "Python 3",
   "language": "python",
   "name": "python3"
  },
  "language_info": {
   "codemirror_mode": {
    "name": "ipython",
    "version": 3
   },
   "file_extension": ".py",
   "mimetype": "text/x-python",
   "name": "python",
   "nbconvert_exporter": "python",
   "pygments_lexer": "ipython3",
   "version": "3.7.4"
  }
 },
 "nbformat": 4,
 "nbformat_minor": 2
}
